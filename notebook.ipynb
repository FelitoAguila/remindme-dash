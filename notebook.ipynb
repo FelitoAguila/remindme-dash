{
 "cells": [
  {
   "cell_type": "code",
   "execution_count": 2,
   "id": "0f5dcbb7",
   "metadata": {},
   "outputs": [],
   "source": [
    "from dash import Dash, html, dcc, Input, Output\n",
    "import plotly.express as px\n",
    "import pandas as pd\n",
    "from pymongo import MongoClient\n",
    "from datetime import datetime, timedelta\n",
    "import os\n",
    "from config import Config\n",
    "\n",
    "# Initialize MongoDB client\n",
    "client = MongoClient(Config.MONGO_URI)\n",
    "db = client['RemindMe-test']\n",
    "collection = db['reminders']"
   ]
  },
  {
   "cell_type": "code",
   "execution_count": 62,
   "id": "5bd412af",
   "metadata": {},
   "outputs": [],
   "source": [
    "start_date=\"2025-01-01\"\n",
    "end_date=\"2025-05-16\"\n",
    "\n",
    "# Fetch data from MongoDB and return DataFrame\n",
    "def get_reminders_data(collection, start_date, end_date):\n",
    "    \"\"\"\n",
    "    Busca en Mongo los datos de uso de la funcionalidad de remind me\n",
    "    Retorna todos los documentos de la base en el rango dado con los campos\n",
    "    El dataframe de salida tiene las columnas\n",
    "    user_id: nro de teléfono del usuario\n",
    "    date_time (str de la forma yyyy-mm-dd): fecha de creación del recordatorio\n",
    "    sentAt (str de la forma yyyy-mm-dd): fecha de envío del recordatorio, si no se envió None\n",
    "    status (str): sent si el recordatorio se envió, not_sent si no se envió\n",
    "    \"\"\"\n",
    "    start = datetime.strptime(start_date, '%Y-%m-%d')\n",
    "    end = datetime.strptime(end_date, '%Y-%m-%d') + timedelta(days=1)\n",
    "\n",
    "    match_stage = {\"$match\": {\"date_time\": \n",
    "                            {\"$gte\": start.strftime('%Y-%m-%dT00:00:00.000-04:00'),\n",
    "                            \"$lt\": end.strftime('%Y-%m-%dT00:00:00.000-04:00')}}}\n",
    "    \n",
    "    # Un solo proyecto que incluya todos los campos necesarios\n",
    "    project_stage = {\n",
    "        \"$project\": {\n",
    "            \"user_id\": 1,\n",
    "            \"date_time\": { \"$substr\": [\"$date_time\", 0, 10] },\n",
    "            \"sentAt\": { \"$ifNull\": [{ \"$substr\": [\"$sentAt\", 0, 10] }, None] },\n",
    "            \"status\": { \"$ifNull\": [\"$status\", \"not_sent\"] },\n",
    "            \"_id\": 0\n",
    "        }\n",
    "    }\n",
    "    pipeline = [match_stage, project_stage]\n",
    "\n",
    "    data = list(collection.aggregate(pipeline))\n",
    "    return pd.DataFrame(data)\n",
    "\n",
    "# Metric functions\n",
    "def get_daily_users(df):\n",
    "    \"\"\"Users creating reminders per day.\"\"\"\n",
    "    if df.empty:\n",
    "        return pd.DataFrame({\"date\": [], \"users\": []})\n",
    "    daily_users = df.groupby('date_time')['user_id'].nunique().reset_index(name='count')\n",
    "    return daily_users\n",
    "\n",
    "def get_monthly_users(df):\n",
    "    \"\"\"Users creating reminders per month.\"\"\"\n",
    "    if df.empty:\n",
    "        return pd.DataFrame({\"date\": [], \"users\": []})\n",
    "    df['mes'] = pd.to_datetime(df['date_time']).dt.to_period('M').astype(str)\n",
    "    df_month = df.groupby('mes')['user_id'].nunique().reset_index(name='count')\n",
    "    return df_month\n",
    "\n",
    "def get_daily_reminds_created(df):\n",
    "    \"\"\"Reminders created per day.\"\"\"\n",
    "    if df.empty:\n",
    "        return pd.DataFrame({\"date\": [], \"created\": [], \"sent\": []})\n",
    "    # Group by date_created and count\n",
    "    daily_counts = df.groupby('date_time').size().reset_index(name='count')\n",
    "    return daily_counts.sort_values('date_time').reset_index(drop=True)\n",
    "\n",
    "def get_monthly_reminds_created(df):\n",
    "    \"\"\"Reminders created per month.\"\"\"\n",
    "    if df.empty:\n",
    "        return pd.DataFrame({\"month\": [], \"created\": [], \"sent\": []})\n",
    "    # Convert date_time to datetime and extract month\n",
    "    df['month'] = pd.to_datetime(df['date_time'], errors='coerce').dt.strftime('%Y-%m')\n",
    "    # Group by month and count\n",
    "    monthly_counts = df.groupby('month').size().reset_index(name='count')\n",
    "    return monthly_counts\n",
    "\n",
    "def get_daily_reminds_sent(df):\n",
    "    sent_date = df[df['status'] == \"sent\"]\n",
    "    daily_sent = sent_date.groupby('date_time').size().reset_index(name='count')\n",
    "    return daily_sent\n",
    "\n",
    "def get_monthly_reminders_sent(df):\n",
    "    \"\"\"Return DataFrame with month and count of status == 'sent' per month.\"\"\"\n",
    "    # Filter for status == 'sent'\n",
    "    sent_date = df[df['status'] == 'sent']\n",
    "    # Convert date_time to datetime and extract month\n",
    "    sent_date['month'] = pd.to_datetime(sent_date['date_time'], errors='coerce').dt.strftime('%Y-%m')\n",
    "    # Group by month and count\n",
    "    monthly_sent = sent_date.groupby('month').size().reset_index(name='count')\n",
    "    return monthly_sent"
   ]
  },
  {
   "cell_type": "code",
   "execution_count": 65,
   "id": "ebe7c2b7",
   "metadata": {},
   "outputs": [
    {
     "name": "stderr",
     "output_type": "stream",
     "text": [
      "C:\\Users\\Felo\\AppData\\Local\\Temp\\ipykernel_16268\\1121443316.py:81: SettingWithCopyWarning: \n",
      "A value is trying to be set on a copy of a slice from a DataFrame.\n",
      "Try using .loc[row_indexer,col_indexer] = value instead\n",
      "\n",
      "See the caveats in the documentation: https://pandas.pydata.org/pandas-docs/stable/user_guide/indexing.html#returning-a-view-versus-a-copy\n",
      "  sent_date['month'] = pd.to_datetime(sent_date['date_time'], errors='coerce').dt.strftime('%Y-%m')\n"
     ]
    }
   ],
   "source": [
    "data = get_reminders_data(collection, start_date, end_date)\n",
    "daily_users = get_daily_users(data)\n",
    "monthly_users = get_monthly_users(data)\n",
    "daily_reminds_created = get_daily_reminds_created(data)\n",
    "monthly_reminds_created = get_monthly_reminds_created(data)\n",
    "daily_reminds_sent = get_daily_reminds_sent(data)\n",
    "monthly_reminds_sent = get_monthly_reminders_sent(data)"
   ]
  },
  {
   "cell_type": "code",
   "execution_count": 52,
   "id": "7071d9a4",
   "metadata": {},
   "outputs": [
    {
     "name": "stdout",
     "output_type": "stream",
     "text": [
      "(10,)\n",
      "(np.int64(184),)\n",
      "(np.int64(117),)\n"
     ]
    }
   ],
   "source": [
    "# Totals\n",
    "total_users = data['user_id'].nunique(),\n",
    "total_reminds_created = data['date_time'].count(),\n",
    "total_reminds_sent = data['status'].value_counts()['sent'],\n",
    "\n",
    "for i in [total_users, total_reminds_created, total_reminds_sent]:\n",
    "    print (i)\n"
   ]
  },
  {
   "cell_type": "code",
   "execution_count": 57,
   "id": "0e9ee518",
   "metadata": {},
   "outputs": [],
   "source": [
    "# Stats users\n",
    "average_daily_users = daily_users['count'].mean()\n",
    "average_monthly_users = monthly_users['count'].mean()\n",
    "per_user_reminds_created = total_reminds_created[0] / total_users\n",
    "per_user_reminds_sent = total_reminds_sent[0] / total_users"
   ]
  },
  {
   "cell_type": "code",
   "execution_count": 58,
   "id": "88372a20",
   "metadata": {},
   "outputs": [
    {
     "name": "stdout",
     "output_type": "stream",
     "text": [
      "4.6\n",
      "10.0\n",
      "[18.4]\n",
      "[11.7]\n"
     ]
    }
   ],
   "source": [
    "for i in [average_daily_users, average_monthly_users, per_user_reminds_created, per_user_reminds_sent]:\n",
    "    print(i)"
   ]
  },
  {
   "cell_type": "code",
   "execution_count": 59,
   "id": "c29d0c20",
   "metadata": {},
   "outputs": [],
   "source": [
    "# Daily stats\n",
    "average_daily_reminds_created = daily_reminds_created['count'].mean()\n",
    "average_daily_reminds_sent = daily_reminds_sent['count'].mean()\n",
    "average_per_user_daily_reminds_created = average_daily_reminds_created / total_users\n",
    "average_per_user_daily_reminds_sent = average_daily_reminds_sent / total_users"
   ]
  },
  {
   "cell_type": "code",
   "execution_count": 60,
   "id": "6df71150",
   "metadata": {},
   "outputs": [
    {
     "name": "stdout",
     "output_type": "stream",
     "text": [
      "36.8\n",
      "23.4\n",
      "[3.68]\n",
      "[2.34]\n"
     ]
    }
   ],
   "source": [
    "for i in [average_daily_reminds_created, average_daily_reminds_sent, average_per_user_daily_reminds_created,average_per_user_daily_reminds_sent]:\n",
    "    print(i)"
   ]
  },
  {
   "cell_type": "code",
   "execution_count": 66,
   "id": "c9b0ec3a",
   "metadata": {},
   "outputs": [],
   "source": [
    "# Monthly stats\n",
    "average_monthly_reminds_created = monthly_reminds_created['count'].mean()\n",
    "average_monthly_reminds_sent = monthly_reminds_sent['count'].mean()\n",
    "average_per_user_monthly_reminds_created = average_monthly_reminds_created /total_users\n",
    "average_per_user_monthly_reminds_sent = average_monthly_reminds_sent / total_users"
   ]
  },
  {
   "cell_type": "code",
   "execution_count": 67,
   "id": "2d090a56",
   "metadata": {},
   "outputs": [
    {
     "name": "stdout",
     "output_type": "stream",
     "text": [
      "184.0\n",
      "117.0\n",
      "[18.4]\n",
      "[11.7]\n"
     ]
    }
   ],
   "source": [
    "for i in [average_monthly_reminds_created, average_monthly_reminds_sent,average_per_user_monthly_reminds_created, average_per_user_monthly_reminds_sent ]:\n",
    "    print(i)"
   ]
  },
  {
   "cell_type": "code",
   "execution_count": null,
   "id": "80c2681c",
   "metadata": {},
   "outputs": [],
   "source": []
  }
 ],
 "metadata": {
  "kernelspec": {
   "display_name": "venv",
   "language": "python",
   "name": "python3"
  },
  "language_info": {
   "codemirror_mode": {
    "name": "ipython",
    "version": 3
   },
   "file_extension": ".py",
   "mimetype": "text/x-python",
   "name": "python",
   "nbconvert_exporter": "python",
   "pygments_lexer": "ipython3",
   "version": "3.11.9"
  }
 },
 "nbformat": 4,
 "nbformat_minor": 5
}
